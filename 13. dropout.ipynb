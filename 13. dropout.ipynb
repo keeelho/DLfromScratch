{
 "cells": [
  {
   "cell_type": "code",
   "execution_count": 1,
   "metadata": {},
   "outputs": [],
   "source": [
    "class Dropout:\n",
    "    def __init__(self, dropout_ratio=0.5):\n",
    "        self.dropout_ratio = dropout_ratio\n",
    "        self.mask = None\n",
    "        \n",
    "    def forward(self, x, train_flg=True):\n",
    "        if train_flg:\n",
    "            self.mask = np.random.randn(*x.shape) > self.dropout_ratio\n",
    "            return x*self.mask\n",
    "        else:\n",
    "            return x*(1.0 - self.droput_ratio)\n",
    "        \n",
    "    def backward(self, dout):\n",
    "        return dout*self.mask"
   ]
  }
 ],
 "metadata": {
  "kernelspec": {
   "display_name": "kkh36",
   "language": "python",
   "name": "kkh36"
  },
  "language_info": {
   "codemirror_mode": {
    "name": "ipython",
    "version": 3
   },
   "file_extension": ".py",
   "mimetype": "text/x-python",
   "name": "python",
   "nbconvert_exporter": "python",
   "pygments_lexer": "ipython3",
   "version": "3.6.12"
  }
 },
 "nbformat": 4,
 "nbformat_minor": 4
}
